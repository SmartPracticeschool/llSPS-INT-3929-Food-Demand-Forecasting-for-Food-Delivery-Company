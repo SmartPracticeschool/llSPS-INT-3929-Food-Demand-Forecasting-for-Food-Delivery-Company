{
 "cells": [
  {
   "cell_type": "code",
   "execution_count": 1,
   "metadata": {},
   "outputs": [],
   "source": [
    "#pip install xgboost"
   ]
  },
  {
   "cell_type": "code",
   "execution_count": 2,
   "metadata": {},
   "outputs": [],
   "source": [
    "\n",
    "#conda install -c anaconda py-xgboost "
   ]
  },
  {
   "cell_type": "code",
   "execution_count": null,
   "metadata": {},
   "outputs": [],
   "source": []
  },
  {
   "cell_type": "code",
   "execution_count": 2,
   "metadata": {},
   "outputs": [],
   "source": [
    "import numpy as np\n",
    "import pandas as pd\n",
    "import matplotlib.pyplot as plt\n"
   ]
  },
  {
   "cell_type": "code",
   "execution_count": 3,
   "metadata": {},
   "outputs": [],
   "source": [
    "train = pd.read_csv('train_set.csv')\n"
   ]
  },
  {
   "cell_type": "code",
   "execution_count": 4,
   "metadata": {},
   "outputs": [
    {
     "data": {
      "text/plain": [
       "id                       False\n",
       "week                     False\n",
       "center_id                False\n",
       "meal_id                  False\n",
       "checkout_price           False\n",
       "base_price               False\n",
       "emailer_for_promotion    False\n",
       "homepage_featured        False\n",
       "num_orders               False\n",
       "dtype: bool"
      ]
     },
     "execution_count": 4,
     "metadata": {},
     "output_type": "execute_result"
    }
   ],
   "source": [
    "train.isnull().any()"
   ]
  },
  {
   "cell_type": "code",
   "execution_count": 5,
   "metadata": {},
   "outputs": [],
   "source": [
    "meal_info = pd.read_csv(\"meal_detail.csv\")\n",
    "center_info = pd.read_csv(\"fulfilment_center_info.csv\")"
   ]
  },
  {
   "cell_type": "code",
   "execution_count": 62,
   "metadata": {},
   "outputs": [
    {
     "name": "stdout",
     "output_type": "stream",
     "text": [
      "The Shape of Demand dataset : (456548, 9)\n",
      "The Shape of Fulmilment Center Information dataset : (77, 5)\n",
      "The Shape of Meal information dataset : (51, 3)\n"
     ]
    }
   ],
   "source": [
    "print(\"The Shape of Demand dataset :\",train.shape)\n",
    "print(\"The Shape of Fulmilment Center Information dataset :\",center_info.shape)\n",
    "print(\"The Shape of Meal information dataset :\",meal_info.shape)\n",
    "#print(\"The Shape of Test dataset :\",test.shape)"
   ]
  },
  {
   "cell_type": "code",
   "execution_count": 6,
   "metadata": {},
   "outputs": [
    {
     "data": {
      "text/html": [
       "<div>\n",
       "<style scoped>\n",
       "    .dataframe tbody tr th:only-of-type {\n",
       "        vertical-align: middle;\n",
       "    }\n",
       "\n",
       "    .dataframe tbody tr th {\n",
       "        vertical-align: top;\n",
       "    }\n",
       "\n",
       "    .dataframe thead th {\n",
       "        text-align: right;\n",
       "    }\n",
       "</style>\n",
       "<table border=\"1\" class=\"dataframe\">\n",
       "  <thead>\n",
       "    <tr style=\"text-align: right;\">\n",
       "      <th></th>\n",
       "      <th>id</th>\n",
       "      <th>week</th>\n",
       "      <th>center_id</th>\n",
       "      <th>meal_id</th>\n",
       "      <th>checkout_price</th>\n",
       "      <th>base_price</th>\n",
       "      <th>emailer_for_promotion</th>\n",
       "      <th>homepage_featured</th>\n",
       "      <th>num_orders</th>\n",
       "      <th>category</th>\n",
       "      <th>cuisine</th>\n",
       "      <th>city_code</th>\n",
       "      <th>region_code</th>\n",
       "      <th>center_type</th>\n",
       "      <th>op_area</th>\n",
       "    </tr>\n",
       "  </thead>\n",
       "  <tbody>\n",
       "    <tr>\n",
       "      <th>0</th>\n",
       "      <td>1379560</td>\n",
       "      <td>1</td>\n",
       "      <td>55</td>\n",
       "      <td>1885</td>\n",
       "      <td>136.83</td>\n",
       "      <td>152.29</td>\n",
       "      <td>0</td>\n",
       "      <td>0</td>\n",
       "      <td>177</td>\n",
       "      <td>Beverages</td>\n",
       "      <td>Thai</td>\n",
       "      <td>647</td>\n",
       "      <td>56</td>\n",
       "      <td>TYPE_C</td>\n",
       "      <td>2.0</td>\n",
       "    </tr>\n",
       "    <tr>\n",
       "      <th>1</th>\n",
       "      <td>1018704</td>\n",
       "      <td>2</td>\n",
       "      <td>55</td>\n",
       "      <td>1885</td>\n",
       "      <td>135.83</td>\n",
       "      <td>152.29</td>\n",
       "      <td>0</td>\n",
       "      <td>0</td>\n",
       "      <td>323</td>\n",
       "      <td>Beverages</td>\n",
       "      <td>Thai</td>\n",
       "      <td>647</td>\n",
       "      <td>56</td>\n",
       "      <td>TYPE_C</td>\n",
       "      <td>2.0</td>\n",
       "    </tr>\n",
       "    <tr>\n",
       "      <th>2</th>\n",
       "      <td>1196273</td>\n",
       "      <td>3</td>\n",
       "      <td>55</td>\n",
       "      <td>1885</td>\n",
       "      <td>132.92</td>\n",
       "      <td>133.92</td>\n",
       "      <td>0</td>\n",
       "      <td>0</td>\n",
       "      <td>96</td>\n",
       "      <td>Beverages</td>\n",
       "      <td>Thai</td>\n",
       "      <td>647</td>\n",
       "      <td>56</td>\n",
       "      <td>TYPE_C</td>\n",
       "      <td>2.0</td>\n",
       "    </tr>\n",
       "    <tr>\n",
       "      <th>3</th>\n",
       "      <td>1116527</td>\n",
       "      <td>4</td>\n",
       "      <td>55</td>\n",
       "      <td>1885</td>\n",
       "      <td>135.86</td>\n",
       "      <td>134.86</td>\n",
       "      <td>0</td>\n",
       "      <td>0</td>\n",
       "      <td>163</td>\n",
       "      <td>Beverages</td>\n",
       "      <td>Thai</td>\n",
       "      <td>647</td>\n",
       "      <td>56</td>\n",
       "      <td>TYPE_C</td>\n",
       "      <td>2.0</td>\n",
       "    </tr>\n",
       "    <tr>\n",
       "      <th>4</th>\n",
       "      <td>1343872</td>\n",
       "      <td>5</td>\n",
       "      <td>55</td>\n",
       "      <td>1885</td>\n",
       "      <td>146.50</td>\n",
       "      <td>147.50</td>\n",
       "      <td>0</td>\n",
       "      <td>0</td>\n",
       "      <td>215</td>\n",
       "      <td>Beverages</td>\n",
       "      <td>Thai</td>\n",
       "      <td>647</td>\n",
       "      <td>56</td>\n",
       "      <td>TYPE_C</td>\n",
       "      <td>2.0</td>\n",
       "    </tr>\n",
       "  </tbody>\n",
       "</table>\n",
       "</div>"
      ],
      "text/plain": [
       "        id  week  center_id  meal_id  checkout_price  base_price  \\\n",
       "0  1379560     1         55     1885          136.83      152.29   \n",
       "1  1018704     2         55     1885          135.83      152.29   \n",
       "2  1196273     3         55     1885          132.92      133.92   \n",
       "3  1116527     4         55     1885          135.86      134.86   \n",
       "4  1343872     5         55     1885          146.50      147.50   \n",
       "\n",
       "   emailer_for_promotion  homepage_featured  num_orders   category cuisine  \\\n",
       "0                      0                  0         177  Beverages    Thai   \n",
       "1                      0                  0         323  Beverages    Thai   \n",
       "2                      0                  0          96  Beverages    Thai   \n",
       "3                      0                  0         163  Beverages    Thai   \n",
       "4                      0                  0         215  Beverages    Thai   \n",
       "\n",
       "   city_code  region_code center_type  op_area  \n",
       "0        647           56      TYPE_C      2.0  \n",
       "1        647           56      TYPE_C      2.0  \n",
       "2        647           56      TYPE_C      2.0  \n",
       "3        647           56      TYPE_C      2.0  \n",
       "4        647           56      TYPE_C      2.0  "
      ]
     },
     "execution_count": 6,
     "metadata": {},
     "output_type": "execute_result"
    }
   ],
   "source": [
    "trainfinal = pd.merge(train, meal_info, on=\"meal_id\", how=\"outer\")\n",
    "trainfinal = pd.merge(trainfinal, center_info, on=\"center_id\", how=\"outer\")\n",
    "trainfinal.head()"
   ]
  },
  {
   "cell_type": "code",
   "execution_count": 7,
   "metadata": {},
   "outputs": [
    {
     "data": {
      "text/plain": [
       "id                       456548\n",
       "week                        145\n",
       "center_id                    77\n",
       "meal_id                      51\n",
       "checkout_price             1992\n",
       "base_price                 1907\n",
       "emailer_for_promotion         2\n",
       "homepage_featured             2\n",
       "num_orders                 1250\n",
       "category                     14\n",
       "cuisine                       4\n",
       "city_code                    51\n",
       "region_code                   8\n",
       "center_type                   3\n",
       "op_area                      30\n",
       "dtype: int64"
      ]
     },
     "execution_count": 7,
     "metadata": {},
     "output_type": "execute_result"
    }
   ],
   "source": [
    "trainfinal.apply(lambda x:len(x.unique()))"
   ]
  },
  {
   "cell_type": "code",
   "execution_count": 8,
   "metadata": {},
   "outputs": [
    {
     "data": {
      "text/html": [
       "<div>\n",
       "<style scoped>\n",
       "    .dataframe tbody tr th:only-of-type {\n",
       "        vertical-align: middle;\n",
       "    }\n",
       "\n",
       "    .dataframe tbody tr th {\n",
       "        vertical-align: top;\n",
       "    }\n",
       "\n",
       "    .dataframe thead th {\n",
       "        text-align: right;\n",
       "    }\n",
       "</style>\n",
       "<table border=\"1\" class=\"dataframe\">\n",
       "  <thead>\n",
       "    <tr style=\"text-align: right;\">\n",
       "      <th></th>\n",
       "      <th>id</th>\n",
       "      <th>week</th>\n",
       "      <th>center_id</th>\n",
       "      <th>meal_id</th>\n",
       "      <th>checkout_price</th>\n",
       "      <th>base_price</th>\n",
       "      <th>emailer_for_promotion</th>\n",
       "      <th>homepage_featured</th>\n",
       "      <th>num_orders</th>\n",
       "      <th>city_code</th>\n",
       "      <th>region_code</th>\n",
       "      <th>op_area</th>\n",
       "    </tr>\n",
       "  </thead>\n",
       "  <tbody>\n",
       "    <tr>\n",
       "      <th>id</th>\n",
       "      <td>1.000000</td>\n",
       "      <td>0.002225</td>\n",
       "      <td>0.002641</td>\n",
       "      <td>0.000488</td>\n",
       "      <td>0.001941</td>\n",
       "      <td>0.002909</td>\n",
       "      <td>0.002001</td>\n",
       "      <td>0.003111</td>\n",
       "      <td>0.000702</td>\n",
       "      <td>-0.000387</td>\n",
       "      <td>-0.000648</td>\n",
       "      <td>-0.000090</td>\n",
       "    </tr>\n",
       "    <tr>\n",
       "      <th>week</th>\n",
       "      <td>0.002225</td>\n",
       "      <td>1.000000</td>\n",
       "      <td>-0.003450</td>\n",
       "      <td>0.019814</td>\n",
       "      <td>0.026581</td>\n",
       "      <td>0.028614</td>\n",
       "      <td>-0.000841</td>\n",
       "      <td>-0.008263</td>\n",
       "      <td>-0.017210</td>\n",
       "      <td>0.000405</td>\n",
       "      <td>0.004600</td>\n",
       "      <td>0.001550</td>\n",
       "    </tr>\n",
       "    <tr>\n",
       "      <th>center_id</th>\n",
       "      <td>0.002641</td>\n",
       "      <td>-0.003450</td>\n",
       "      <td>1.000000</td>\n",
       "      <td>0.009893</td>\n",
       "      <td>0.001348</td>\n",
       "      <td>0.000604</td>\n",
       "      <td>0.013658</td>\n",
       "      <td>-0.005043</td>\n",
       "      <td>-0.053035</td>\n",
       "      <td>0.061078</td>\n",
       "      <td>-0.003426</td>\n",
       "      <td>-0.111869</td>\n",
       "    </tr>\n",
       "    <tr>\n",
       "      <th>meal_id</th>\n",
       "      <td>0.000488</td>\n",
       "      <td>0.019814</td>\n",
       "      <td>0.009893</td>\n",
       "      <td>1.000000</td>\n",
       "      <td>0.010748</td>\n",
       "      <td>0.002605</td>\n",
       "      <td>0.013402</td>\n",
       "      <td>0.016354</td>\n",
       "      <td>0.010597</td>\n",
       "      <td>-0.003198</td>\n",
       "      <td>-0.001662</td>\n",
       "      <td>-0.001546</td>\n",
       "    </tr>\n",
       "    <tr>\n",
       "      <th>checkout_price</th>\n",
       "      <td>0.001941</td>\n",
       "      <td>0.026581</td>\n",
       "      <td>0.001348</td>\n",
       "      <td>0.010748</td>\n",
       "      <td>1.000000</td>\n",
       "      <td>0.953389</td>\n",
       "      <td>0.004818</td>\n",
       "      <td>-0.057184</td>\n",
       "      <td>-0.282108</td>\n",
       "      <td>-0.004805</td>\n",
       "      <td>-0.003648</td>\n",
       "      <td>0.021569</td>\n",
       "    </tr>\n",
       "    <tr>\n",
       "      <th>base_price</th>\n",
       "      <td>0.002909</td>\n",
       "      <td>0.028614</td>\n",
       "      <td>0.000604</td>\n",
       "      <td>0.002605</td>\n",
       "      <td>0.953389</td>\n",
       "      <td>1.000000</td>\n",
       "      <td>0.171173</td>\n",
       "      <td>0.057156</td>\n",
       "      <td>-0.222306</td>\n",
       "      <td>-0.002054</td>\n",
       "      <td>-0.001934</td>\n",
       "      <td>0.018031</td>\n",
       "    </tr>\n",
       "    <tr>\n",
       "      <th>emailer_for_promotion</th>\n",
       "      <td>0.002001</td>\n",
       "      <td>-0.000841</td>\n",
       "      <td>0.013658</td>\n",
       "      <td>0.013402</td>\n",
       "      <td>0.004818</td>\n",
       "      <td>0.171173</td>\n",
       "      <td>1.000000</td>\n",
       "      <td>0.390534</td>\n",
       "      <td>0.277147</td>\n",
       "      <td>-0.005234</td>\n",
       "      <td>-0.007462</td>\n",
       "      <td>-0.019462</td>\n",
       "    </tr>\n",
       "    <tr>\n",
       "      <th>homepage_featured</th>\n",
       "      <td>0.003111</td>\n",
       "      <td>-0.008263</td>\n",
       "      <td>-0.005043</td>\n",
       "      <td>0.016354</td>\n",
       "      <td>-0.057184</td>\n",
       "      <td>0.057156</td>\n",
       "      <td>0.390534</td>\n",
       "      <td>1.000000</td>\n",
       "      <td>0.294490</td>\n",
       "      <td>0.008640</td>\n",
       "      <td>0.003605</td>\n",
       "      <td>0.041498</td>\n",
       "    </tr>\n",
       "    <tr>\n",
       "      <th>num_orders</th>\n",
       "      <td>0.000702</td>\n",
       "      <td>-0.017210</td>\n",
       "      <td>-0.053035</td>\n",
       "      <td>0.010597</td>\n",
       "      <td>-0.282108</td>\n",
       "      <td>-0.222306</td>\n",
       "      <td>0.277147</td>\n",
       "      <td>0.294490</td>\n",
       "      <td>1.000000</td>\n",
       "      <td>0.041596</td>\n",
       "      <td>0.029744</td>\n",
       "      <td>0.176976</td>\n",
       "    </tr>\n",
       "    <tr>\n",
       "      <th>city_code</th>\n",
       "      <td>-0.000387</td>\n",
       "      <td>0.000405</td>\n",
       "      <td>0.061078</td>\n",
       "      <td>-0.003198</td>\n",
       "      <td>-0.004805</td>\n",
       "      <td>-0.002054</td>\n",
       "      <td>-0.005234</td>\n",
       "      <td>0.008640</td>\n",
       "      <td>0.041596</td>\n",
       "      <td>1.000000</td>\n",
       "      <td>0.042686</td>\n",
       "      <td>0.131476</td>\n",
       "    </tr>\n",
       "    <tr>\n",
       "      <th>region_code</th>\n",
       "      <td>-0.000648</td>\n",
       "      <td>0.004600</td>\n",
       "      <td>-0.003426</td>\n",
       "      <td>-0.001662</td>\n",
       "      <td>-0.003648</td>\n",
       "      <td>-0.001934</td>\n",
       "      <td>-0.007462</td>\n",
       "      <td>0.003605</td>\n",
       "      <td>0.029744</td>\n",
       "      <td>0.042686</td>\n",
       "      <td>1.000000</td>\n",
       "      <td>0.023327</td>\n",
       "    </tr>\n",
       "    <tr>\n",
       "      <th>op_area</th>\n",
       "      <td>-0.000090</td>\n",
       "      <td>0.001550</td>\n",
       "      <td>-0.111869</td>\n",
       "      <td>-0.001546</td>\n",
       "      <td>0.021569</td>\n",
       "      <td>0.018031</td>\n",
       "      <td>-0.019462</td>\n",
       "      <td>0.041498</td>\n",
       "      <td>0.176976</td>\n",
       "      <td>0.131476</td>\n",
       "      <td>0.023327</td>\n",
       "      <td>1.000000</td>\n",
       "    </tr>\n",
       "  </tbody>\n",
       "</table>\n",
       "</div>"
      ],
      "text/plain": [
       "                             id      week  center_id   meal_id  \\\n",
       "id                     1.000000  0.002225   0.002641  0.000488   \n",
       "week                   0.002225  1.000000  -0.003450  0.019814   \n",
       "center_id              0.002641 -0.003450   1.000000  0.009893   \n",
       "meal_id                0.000488  0.019814   0.009893  1.000000   \n",
       "checkout_price         0.001941  0.026581   0.001348  0.010748   \n",
       "base_price             0.002909  0.028614   0.000604  0.002605   \n",
       "emailer_for_promotion  0.002001 -0.000841   0.013658  0.013402   \n",
       "homepage_featured      0.003111 -0.008263  -0.005043  0.016354   \n",
       "num_orders             0.000702 -0.017210  -0.053035  0.010597   \n",
       "city_code             -0.000387  0.000405   0.061078 -0.003198   \n",
       "region_code           -0.000648  0.004600  -0.003426 -0.001662   \n",
       "op_area               -0.000090  0.001550  -0.111869 -0.001546   \n",
       "\n",
       "                       checkout_price  base_price  emailer_for_promotion  \\\n",
       "id                           0.001941    0.002909               0.002001   \n",
       "week                         0.026581    0.028614              -0.000841   \n",
       "center_id                    0.001348    0.000604               0.013658   \n",
       "meal_id                      0.010748    0.002605               0.013402   \n",
       "checkout_price               1.000000    0.953389               0.004818   \n",
       "base_price                   0.953389    1.000000               0.171173   \n",
       "emailer_for_promotion        0.004818    0.171173               1.000000   \n",
       "homepage_featured           -0.057184    0.057156               0.390534   \n",
       "num_orders                  -0.282108   -0.222306               0.277147   \n",
       "city_code                   -0.004805   -0.002054              -0.005234   \n",
       "region_code                 -0.003648   -0.001934              -0.007462   \n",
       "op_area                      0.021569    0.018031              -0.019462   \n",
       "\n",
       "                       homepage_featured  num_orders  city_code  region_code  \\\n",
       "id                              0.003111    0.000702  -0.000387    -0.000648   \n",
       "week                           -0.008263   -0.017210   0.000405     0.004600   \n",
       "center_id                      -0.005043   -0.053035   0.061078    -0.003426   \n",
       "meal_id                         0.016354    0.010597  -0.003198    -0.001662   \n",
       "checkout_price                 -0.057184   -0.282108  -0.004805    -0.003648   \n",
       "base_price                      0.057156   -0.222306  -0.002054    -0.001934   \n",
       "emailer_for_promotion           0.390534    0.277147  -0.005234    -0.007462   \n",
       "homepage_featured               1.000000    0.294490   0.008640     0.003605   \n",
       "num_orders                      0.294490    1.000000   0.041596     0.029744   \n",
       "city_code                       0.008640    0.041596   1.000000     0.042686   \n",
       "region_code                     0.003605    0.029744   0.042686     1.000000   \n",
       "op_area                         0.041498    0.176976   0.131476     0.023327   \n",
       "\n",
       "                        op_area  \n",
       "id                    -0.000090  \n",
       "week                   0.001550  \n",
       "center_id             -0.111869  \n",
       "meal_id               -0.001546  \n",
       "checkout_price         0.021569  \n",
       "base_price             0.018031  \n",
       "emailer_for_promotion -0.019462  \n",
       "homepage_featured      0.041498  \n",
       "num_orders             0.176976  \n",
       "city_code              0.131476  \n",
       "region_code            0.023327  \n",
       "op_area                1.000000  "
      ]
     },
     "execution_count": 8,
     "metadata": {},
     "output_type": "execute_result"
    }
   ],
   "source": [
    "trainfinal.corr()"
   ]
  },
  {
   "cell_type": "code",
   "execution_count": 10,
   "metadata": {},
   "outputs": [
    {
     "data": {
      "text/html": [
       "<div>\n",
       "<style scoped>\n",
       "    .dataframe tbody tr th:only-of-type {\n",
       "        vertical-align: middle;\n",
       "    }\n",
       "\n",
       "    .dataframe tbody tr th {\n",
       "        vertical-align: top;\n",
       "    }\n",
       "\n",
       "    .dataframe thead th {\n",
       "        text-align: right;\n",
       "    }\n",
       "</style>\n",
       "<table border=\"1\" class=\"dataframe\">\n",
       "  <thead>\n",
       "    <tr style=\"text-align: right;\">\n",
       "      <th></th>\n",
       "      <th>TYPE_A</th>\n",
       "      <th>TYPE_B</th>\n",
       "      <th>TYPE_C</th>\n",
       "    </tr>\n",
       "  </thead>\n",
       "  <tbody>\n",
       "    <tr>\n",
       "      <th>0</th>\n",
       "      <td>0</td>\n",
       "      <td>0</td>\n",
       "      <td>1</td>\n",
       "    </tr>\n",
       "    <tr>\n",
       "      <th>1</th>\n",
       "      <td>0</td>\n",
       "      <td>0</td>\n",
       "      <td>1</td>\n",
       "    </tr>\n",
       "    <tr>\n",
       "      <th>2</th>\n",
       "      <td>0</td>\n",
       "      <td>0</td>\n",
       "      <td>1</td>\n",
       "    </tr>\n",
       "    <tr>\n",
       "      <th>3</th>\n",
       "      <td>0</td>\n",
       "      <td>0</td>\n",
       "      <td>1</td>\n",
       "    </tr>\n",
       "    <tr>\n",
       "      <th>4</th>\n",
       "      <td>0</td>\n",
       "      <td>0</td>\n",
       "      <td>1</td>\n",
       "    </tr>\n",
       "    <tr>\n",
       "      <th>...</th>\n",
       "      <td>...</td>\n",
       "      <td>...</td>\n",
       "      <td>...</td>\n",
       "    </tr>\n",
       "    <tr>\n",
       "      <th>456543</th>\n",
       "      <td>1</td>\n",
       "      <td>0</td>\n",
       "      <td>0</td>\n",
       "    </tr>\n",
       "    <tr>\n",
       "      <th>456544</th>\n",
       "      <td>1</td>\n",
       "      <td>0</td>\n",
       "      <td>0</td>\n",
       "    </tr>\n",
       "    <tr>\n",
       "      <th>456545</th>\n",
       "      <td>1</td>\n",
       "      <td>0</td>\n",
       "      <td>0</td>\n",
       "    </tr>\n",
       "    <tr>\n",
       "      <th>456546</th>\n",
       "      <td>1</td>\n",
       "      <td>0</td>\n",
       "      <td>0</td>\n",
       "    </tr>\n",
       "    <tr>\n",
       "      <th>456547</th>\n",
       "      <td>1</td>\n",
       "      <td>0</td>\n",
       "      <td>0</td>\n",
       "    </tr>\n",
       "  </tbody>\n",
       "</table>\n",
       "<p>456548 rows × 3 columns</p>\n",
       "</div>"
      ],
      "text/plain": [
       "        TYPE_A  TYPE_B  TYPE_C\n",
       "0            0       0       1\n",
       "1            0       0       1\n",
       "2            0       0       1\n",
       "3            0       0       1\n",
       "4            0       0       1\n",
       "...        ...     ...     ...\n",
       "456543       1       0       0\n",
       "456544       1       0       0\n",
       "456545       1       0       0\n",
       "456546       1       0       0\n",
       "456547       1       0       0\n",
       "\n",
       "[456548 rows x 3 columns]"
      ]
     },
     "execution_count": 10,
     "metadata": {},
     "output_type": "execute_result"
    }
   ],
   "source": [
    "c=pd.get_dummies(trainfinal[\"center_type\"])\n",
    "c"
   ]
  },
  {
   "cell_type": "code",
   "execution_count": 11,
   "metadata": {},
   "outputs": [],
   "source": [
    "trainfinal[\"Type_A\"]=c[\"TYPE_A\"]\n",
    "trainfinal[\"Type_B\"]=c[\"TYPE_B\"]\n",
    "trainfinal[\"Type_C\"]=c[\"TYPE_C\"]"
   ]
  },
  {
   "cell_type": "code",
   "execution_count": null,
   "metadata": {},
   "outputs": [],
   "source": []
  },
  {
   "cell_type": "code",
   "execution_count": 12,
   "metadata": {},
   "outputs": [],
   "source": [
    "from sklearn.preprocessing import LabelEncoder\n",
    "lb1 = LabelEncoder()\n",
    "trainfinal['center_type'] = lb1.fit_transform(trainfinal['center_type'])\n",
    "\n",
    "lb2 = LabelEncoder()\n",
    "trainfinal['category'] = lb1.fit_transform(trainfinal['category'])\n",
    "trainfinal['cuisine'] = lb1.fit_transform(trainfinal['cuisine'])"
   ]
  },
  {
   "cell_type": "code",
   "execution_count": 13,
   "metadata": {},
   "outputs": [
    {
     "data": {
      "text/html": [
       "<div>\n",
       "<style scoped>\n",
       "    .dataframe tbody tr th:only-of-type {\n",
       "        vertical-align: middle;\n",
       "    }\n",
       "\n",
       "    .dataframe tbody tr th {\n",
       "        vertical-align: top;\n",
       "    }\n",
       "\n",
       "    .dataframe thead th {\n",
       "        text-align: right;\n",
       "    }\n",
       "</style>\n",
       "<table border=\"1\" class=\"dataframe\">\n",
       "  <thead>\n",
       "    <tr style=\"text-align: right;\">\n",
       "      <th></th>\n",
       "      <th>id</th>\n",
       "      <th>week</th>\n",
       "      <th>center_id</th>\n",
       "      <th>meal_id</th>\n",
       "      <th>checkout_price</th>\n",
       "      <th>base_price</th>\n",
       "      <th>emailer_for_promotion</th>\n",
       "      <th>homepage_featured</th>\n",
       "      <th>num_orders</th>\n",
       "      <th>category</th>\n",
       "      <th>cuisine</th>\n",
       "      <th>city_code</th>\n",
       "      <th>region_code</th>\n",
       "      <th>center_type</th>\n",
       "      <th>op_area</th>\n",
       "      <th>Type_A</th>\n",
       "      <th>Type_B</th>\n",
       "      <th>Type_C</th>\n",
       "    </tr>\n",
       "  </thead>\n",
       "  <tbody>\n",
       "    <tr>\n",
       "      <th>0</th>\n",
       "      <td>1379560</td>\n",
       "      <td>1</td>\n",
       "      <td>55</td>\n",
       "      <td>1885</td>\n",
       "      <td>136.83</td>\n",
       "      <td>152.29</td>\n",
       "      <td>0</td>\n",
       "      <td>0</td>\n",
       "      <td>177</td>\n",
       "      <td>0</td>\n",
       "      <td>3</td>\n",
       "      <td>647</td>\n",
       "      <td>56</td>\n",
       "      <td>2</td>\n",
       "      <td>2.0</td>\n",
       "      <td>0</td>\n",
       "      <td>0</td>\n",
       "      <td>1</td>\n",
       "    </tr>\n",
       "    <tr>\n",
       "      <th>1</th>\n",
       "      <td>1018704</td>\n",
       "      <td>2</td>\n",
       "      <td>55</td>\n",
       "      <td>1885</td>\n",
       "      <td>135.83</td>\n",
       "      <td>152.29</td>\n",
       "      <td>0</td>\n",
       "      <td>0</td>\n",
       "      <td>323</td>\n",
       "      <td>0</td>\n",
       "      <td>3</td>\n",
       "      <td>647</td>\n",
       "      <td>56</td>\n",
       "      <td>2</td>\n",
       "      <td>2.0</td>\n",
       "      <td>0</td>\n",
       "      <td>0</td>\n",
       "      <td>1</td>\n",
       "    </tr>\n",
       "    <tr>\n",
       "      <th>2</th>\n",
       "      <td>1196273</td>\n",
       "      <td>3</td>\n",
       "      <td>55</td>\n",
       "      <td>1885</td>\n",
       "      <td>132.92</td>\n",
       "      <td>133.92</td>\n",
       "      <td>0</td>\n",
       "      <td>0</td>\n",
       "      <td>96</td>\n",
       "      <td>0</td>\n",
       "      <td>3</td>\n",
       "      <td>647</td>\n",
       "      <td>56</td>\n",
       "      <td>2</td>\n",
       "      <td>2.0</td>\n",
       "      <td>0</td>\n",
       "      <td>0</td>\n",
       "      <td>1</td>\n",
       "    </tr>\n",
       "    <tr>\n",
       "      <th>3</th>\n",
       "      <td>1116527</td>\n",
       "      <td>4</td>\n",
       "      <td>55</td>\n",
       "      <td>1885</td>\n",
       "      <td>135.86</td>\n",
       "      <td>134.86</td>\n",
       "      <td>0</td>\n",
       "      <td>0</td>\n",
       "      <td>163</td>\n",
       "      <td>0</td>\n",
       "      <td>3</td>\n",
       "      <td>647</td>\n",
       "      <td>56</td>\n",
       "      <td>2</td>\n",
       "      <td>2.0</td>\n",
       "      <td>0</td>\n",
       "      <td>0</td>\n",
       "      <td>1</td>\n",
       "    </tr>\n",
       "    <tr>\n",
       "      <th>4</th>\n",
       "      <td>1343872</td>\n",
       "      <td>5</td>\n",
       "      <td>55</td>\n",
       "      <td>1885</td>\n",
       "      <td>146.50</td>\n",
       "      <td>147.50</td>\n",
       "      <td>0</td>\n",
       "      <td>0</td>\n",
       "      <td>215</td>\n",
       "      <td>0</td>\n",
       "      <td>3</td>\n",
       "      <td>647</td>\n",
       "      <td>56</td>\n",
       "      <td>2</td>\n",
       "      <td>2.0</td>\n",
       "      <td>0</td>\n",
       "      <td>0</td>\n",
       "      <td>1</td>\n",
       "    </tr>\n",
       "  </tbody>\n",
       "</table>\n",
       "</div>"
      ],
      "text/plain": [
       "        id  week  center_id  meal_id  checkout_price  base_price  \\\n",
       "0  1379560     1         55     1885          136.83      152.29   \n",
       "1  1018704     2         55     1885          135.83      152.29   \n",
       "2  1196273     3         55     1885          132.92      133.92   \n",
       "3  1116527     4         55     1885          135.86      134.86   \n",
       "4  1343872     5         55     1885          146.50      147.50   \n",
       "\n",
       "   emailer_for_promotion  homepage_featured  num_orders  category  cuisine  \\\n",
       "0                      0                  0         177         0        3   \n",
       "1                      0                  0         323         0        3   \n",
       "2                      0                  0          96         0        3   \n",
       "3                      0                  0         163         0        3   \n",
       "4                      0                  0         215         0        3   \n",
       "\n",
       "   city_code  region_code  center_type  op_area  Type_A  Type_B  Type_C  \n",
       "0        647           56            2      2.0       0       0       1  \n",
       "1        647           56            2      2.0       0       0       1  \n",
       "2        647           56            2      2.0       0       0       1  \n",
       "3        647           56            2      2.0       0       0       1  \n",
       "4        647           56            2      2.0       0       0       1  "
      ]
     },
     "execution_count": 13,
     "metadata": {},
     "output_type": "execute_result"
    }
   ],
   "source": [
    "trainfinal.head(5)"
   ]
  },
  {
   "cell_type": "code",
   "execution_count": 14,
   "metadata": {},
   "outputs": [
    {
     "data": {
      "text/html": [
       "<div>\n",
       "<style scoped>\n",
       "    .dataframe tbody tr th:only-of-type {\n",
       "        vertical-align: middle;\n",
       "    }\n",
       "\n",
       "    .dataframe tbody tr th {\n",
       "        vertical-align: top;\n",
       "    }\n",
       "\n",
       "    .dataframe thead th {\n",
       "        text-align: right;\n",
       "    }\n",
       "</style>\n",
       "<table border=\"1\" class=\"dataframe\">\n",
       "  <thead>\n",
       "    <tr style=\"text-align: right;\">\n",
       "      <th></th>\n",
       "      <th>id</th>\n",
       "      <th>week</th>\n",
       "      <th>center_id</th>\n",
       "      <th>meal_id</th>\n",
       "      <th>checkout_price</th>\n",
       "      <th>base_price</th>\n",
       "      <th>emailer_for_promotion</th>\n",
       "      <th>homepage_featured</th>\n",
       "      <th>num_orders</th>\n",
       "      <th>category</th>\n",
       "      <th>cuisine</th>\n",
       "      <th>city_code</th>\n",
       "      <th>region_code</th>\n",
       "      <th>center_type</th>\n",
       "      <th>op_area</th>\n",
       "      <th>Type_A</th>\n",
       "      <th>Type_B</th>\n",
       "      <th>Type_C</th>\n",
       "    </tr>\n",
       "  </thead>\n",
       "  <tbody>\n",
       "    <tr>\n",
       "      <th>id</th>\n",
       "      <td>1.000000</td>\n",
       "      <td>0.002225</td>\n",
       "      <td>0.002641</td>\n",
       "      <td>0.000488</td>\n",
       "      <td>0.001941</td>\n",
       "      <td>0.002909</td>\n",
       "      <td>0.002001</td>\n",
       "      <td>0.003111</td>\n",
       "      <td>0.000702</td>\n",
       "      <td>-0.000516</td>\n",
       "      <td>-0.002583</td>\n",
       "      <td>-0.000387</td>\n",
       "      <td>-0.000648</td>\n",
       "      <td>0.000473</td>\n",
       "      <td>-0.000090</td>\n",
       "      <td>-0.000465</td>\n",
       "      <td>0.000181</td>\n",
       "      <td>0.000378</td>\n",
       "    </tr>\n",
       "    <tr>\n",
       "      <th>week</th>\n",
       "      <td>0.002225</td>\n",
       "      <td>1.000000</td>\n",
       "      <td>-0.003450</td>\n",
       "      <td>0.019814</td>\n",
       "      <td>0.026581</td>\n",
       "      <td>0.028614</td>\n",
       "      <td>-0.000841</td>\n",
       "      <td>-0.008263</td>\n",
       "      <td>-0.017210</td>\n",
       "      <td>0.003802</td>\n",
       "      <td>-0.018096</td>\n",
       "      <td>0.000405</td>\n",
       "      <td>0.004600</td>\n",
       "      <td>0.000049</td>\n",
       "      <td>0.001550</td>\n",
       "      <td>-0.003838</td>\n",
       "      <td>0.009282</td>\n",
       "      <td>-0.004497</td>\n",
       "    </tr>\n",
       "    <tr>\n",
       "      <th>center_id</th>\n",
       "      <td>0.002641</td>\n",
       "      <td>-0.003450</td>\n",
       "      <td>1.000000</td>\n",
       "      <td>0.009893</td>\n",
       "      <td>0.001348</td>\n",
       "      <td>0.000604</td>\n",
       "      <td>0.013658</td>\n",
       "      <td>-0.005043</td>\n",
       "      <td>-0.053035</td>\n",
       "      <td>-0.008446</td>\n",
       "      <td>-0.020980</td>\n",
       "      <td>0.061078</td>\n",
       "      <td>-0.003426</td>\n",
       "      <td>-0.107398</td>\n",
       "      <td>-0.111869</td>\n",
       "      <td>0.126300</td>\n",
       "      <td>-0.091954</td>\n",
       "      <td>-0.061086</td>\n",
       "    </tr>\n",
       "    <tr>\n",
       "      <th>meal_id</th>\n",
       "      <td>0.000488</td>\n",
       "      <td>0.019814</td>\n",
       "      <td>0.009893</td>\n",
       "      <td>1.000000</td>\n",
       "      <td>0.010748</td>\n",
       "      <td>0.002605</td>\n",
       "      <td>0.013402</td>\n",
       "      <td>0.016354</td>\n",
       "      <td>0.010597</td>\n",
       "      <td>0.249541</td>\n",
       "      <td>0.165249</td>\n",
       "      <td>-0.003198</td>\n",
       "      <td>-0.001662</td>\n",
       "      <td>-0.006158</td>\n",
       "      <td>-0.001546</td>\n",
       "      <td>0.003411</td>\n",
       "      <td>0.004090</td>\n",
       "      <td>-0.008088</td>\n",
       "    </tr>\n",
       "    <tr>\n",
       "      <th>checkout_price</th>\n",
       "      <td>0.001941</td>\n",
       "      <td>0.026581</td>\n",
       "      <td>0.001348</td>\n",
       "      <td>0.010748</td>\n",
       "      <td>1.000000</td>\n",
       "      <td>0.953389</td>\n",
       "      <td>0.004818</td>\n",
       "      <td>-0.057184</td>\n",
       "      <td>-0.282108</td>\n",
       "      <td>0.277529</td>\n",
       "      <td>-0.686125</td>\n",
       "      <td>-0.004805</td>\n",
       "      <td>-0.003648</td>\n",
       "      <td>-0.015923</td>\n",
       "      <td>0.021569</td>\n",
       "      <td>0.004250</td>\n",
       "      <td>0.021740</td>\n",
       "      <td>-0.026378</td>\n",
       "    </tr>\n",
       "    <tr>\n",
       "      <th>base_price</th>\n",
       "      <td>0.002909</td>\n",
       "      <td>0.028614</td>\n",
       "      <td>0.000604</td>\n",
       "      <td>0.002605</td>\n",
       "      <td>0.953389</td>\n",
       "      <td>1.000000</td>\n",
       "      <td>0.171173</td>\n",
       "      <td>0.057156</td>\n",
       "      <td>-0.222306</td>\n",
       "      <td>0.282205</td>\n",
       "      <td>-0.720500</td>\n",
       "      <td>-0.002054</td>\n",
       "      <td>-0.001934</td>\n",
       "      <td>-0.013596</td>\n",
       "      <td>0.018031</td>\n",
       "      <td>0.004108</td>\n",
       "      <td>0.017395</td>\n",
       "      <td>-0.021952</td>\n",
       "    </tr>\n",
       "    <tr>\n",
       "      <th>emailer_for_promotion</th>\n",
       "      <td>0.002001</td>\n",
       "      <td>-0.000841</td>\n",
       "      <td>0.013658</td>\n",
       "      <td>0.013402</td>\n",
       "      <td>0.004818</td>\n",
       "      <td>0.171173</td>\n",
       "      <td>1.000000</td>\n",
       "      <td>0.390534</td>\n",
       "      <td>0.277147</td>\n",
       "      <td>0.095683</td>\n",
       "      <td>-0.151910</td>\n",
       "      <td>-0.005234</td>\n",
       "      <td>-0.007462</td>\n",
       "      <td>0.006194</td>\n",
       "      <td>-0.019462</td>\n",
       "      <td>-0.003042</td>\n",
       "      <td>-0.005064</td>\n",
       "      <td>0.008600</td>\n",
       "    </tr>\n",
       "    <tr>\n",
       "      <th>homepage_featured</th>\n",
       "      <td>0.003111</td>\n",
       "      <td>-0.008263</td>\n",
       "      <td>-0.005043</td>\n",
       "      <td>0.016354</td>\n",
       "      <td>-0.057184</td>\n",
       "      <td>0.057156</td>\n",
       "      <td>0.390534</td>\n",
       "      <td>1.000000</td>\n",
       "      <td>0.294490</td>\n",
       "      <td>0.000885</td>\n",
       "      <td>-0.014629</td>\n",
       "      <td>0.008640</td>\n",
       "      <td>0.003605</td>\n",
       "      <td>-0.030041</td>\n",
       "      <td>0.041498</td>\n",
       "      <td>0.024035</td>\n",
       "      <td>0.001877</td>\n",
       "      <td>-0.030601</td>\n",
       "    </tr>\n",
       "    <tr>\n",
       "      <th>num_orders</th>\n",
       "      <td>0.000702</td>\n",
       "      <td>-0.017210</td>\n",
       "      <td>-0.053035</td>\n",
       "      <td>0.010597</td>\n",
       "      <td>-0.282108</td>\n",
       "      <td>-0.222306</td>\n",
       "      <td>0.277147</td>\n",
       "      <td>0.294490</td>\n",
       "      <td>1.000000</td>\n",
       "      <td>0.026520</td>\n",
       "      <td>0.127653</td>\n",
       "      <td>0.041596</td>\n",
       "      <td>0.029744</td>\n",
       "      <td>-0.038199</td>\n",
       "      <td>0.176976</td>\n",
       "      <td>0.001535</td>\n",
       "      <td>0.073322</td>\n",
       "      <td>-0.073647</td>\n",
       "    </tr>\n",
       "    <tr>\n",
       "      <th>category</th>\n",
       "      <td>-0.000516</td>\n",
       "      <td>0.003802</td>\n",
       "      <td>-0.008446</td>\n",
       "      <td>0.249541</td>\n",
       "      <td>0.277529</td>\n",
       "      <td>0.282205</td>\n",
       "      <td>0.095683</td>\n",
       "      <td>0.000885</td>\n",
       "      <td>0.026520</td>\n",
       "      <td>1.000000</td>\n",
       "      <td>0.132044</td>\n",
       "      <td>0.007676</td>\n",
       "      <td>0.005776</td>\n",
       "      <td>-0.007919</td>\n",
       "      <td>0.014487</td>\n",
       "      <td>0.004326</td>\n",
       "      <td>0.005407</td>\n",
       "      <td>-0.010473</td>\n",
       "    </tr>\n",
       "    <tr>\n",
       "      <th>cuisine</th>\n",
       "      <td>-0.002583</td>\n",
       "      <td>-0.018096</td>\n",
       "      <td>-0.020980</td>\n",
       "      <td>0.165249</td>\n",
       "      <td>-0.686125</td>\n",
       "      <td>-0.720500</td>\n",
       "      <td>-0.151910</td>\n",
       "      <td>-0.014629</td>\n",
       "      <td>0.127653</td>\n",
       "      <td>0.132044</td>\n",
       "      <td>1.000000</td>\n",
       "      <td>0.013208</td>\n",
       "      <td>0.017213</td>\n",
       "      <td>-0.002179</td>\n",
       "      <td>0.012654</td>\n",
       "      <td>0.003942</td>\n",
       "      <td>-0.005238</td>\n",
       "      <td>0.000412</td>\n",
       "    </tr>\n",
       "    <tr>\n",
       "      <th>city_code</th>\n",
       "      <td>-0.000387</td>\n",
       "      <td>0.000405</td>\n",
       "      <td>0.061078</td>\n",
       "      <td>-0.003198</td>\n",
       "      <td>-0.004805</td>\n",
       "      <td>-0.002054</td>\n",
       "      <td>-0.005234</td>\n",
       "      <td>0.008640</td>\n",
       "      <td>0.041596</td>\n",
       "      <td>0.007676</td>\n",
       "      <td>0.013208</td>\n",
       "      <td>1.000000</td>\n",
       "      <td>0.042686</td>\n",
       "      <td>0.091500</td>\n",
       "      <td>0.131476</td>\n",
       "      <td>-0.077339</td>\n",
       "      <td>0.004382</td>\n",
       "      <td>0.088261</td>\n",
       "    </tr>\n",
       "    <tr>\n",
       "      <th>region_code</th>\n",
       "      <td>-0.000648</td>\n",
       "      <td>0.004600</td>\n",
       "      <td>-0.003426</td>\n",
       "      <td>-0.001662</td>\n",
       "      <td>-0.003648</td>\n",
       "      <td>-0.001934</td>\n",
       "      <td>-0.007462</td>\n",
       "      <td>0.003605</td>\n",
       "      <td>0.029744</td>\n",
       "      <td>0.005776</td>\n",
       "      <td>0.017213</td>\n",
       "      <td>0.042686</td>\n",
       "      <td>1.000000</td>\n",
       "      <td>-0.009658</td>\n",
       "      <td>0.023327</td>\n",
       "      <td>0.030834</td>\n",
       "      <td>-0.055865</td>\n",
       "      <td>0.017814</td>\n",
       "    </tr>\n",
       "    <tr>\n",
       "      <th>center_type</th>\n",
       "      <td>0.000473</td>\n",
       "      <td>0.000049</td>\n",
       "      <td>-0.107398</td>\n",
       "      <td>-0.006158</td>\n",
       "      <td>-0.015923</td>\n",
       "      <td>-0.013596</td>\n",
       "      <td>0.006194</td>\n",
       "      <td>-0.030041</td>\n",
       "      <td>-0.038199</td>\n",
       "      <td>-0.007919</td>\n",
       "      <td>-0.002179</td>\n",
       "      <td>0.091500</td>\n",
       "      <td>-0.009658</td>\n",
       "      <td>1.000000</td>\n",
       "      <td>-0.219791</td>\n",
       "      <td>-0.917007</td>\n",
       "      <td>0.223264</td>\n",
       "      <td>0.878724</td>\n",
       "    </tr>\n",
       "    <tr>\n",
       "      <th>op_area</th>\n",
       "      <td>-0.000090</td>\n",
       "      <td>0.001550</td>\n",
       "      <td>-0.111869</td>\n",
       "      <td>-0.001546</td>\n",
       "      <td>0.021569</td>\n",
       "      <td>0.018031</td>\n",
       "      <td>-0.019462</td>\n",
       "      <td>0.041498</td>\n",
       "      <td>0.176976</td>\n",
       "      <td>0.014487</td>\n",
       "      <td>0.012654</td>\n",
       "      <td>0.131476</td>\n",
       "      <td>0.023327</td>\n",
       "      <td>-0.219791</td>\n",
       "      <td>1.000000</td>\n",
       "      <td>0.034570</td>\n",
       "      <td>0.358992</td>\n",
       "      <td>-0.392961</td>\n",
       "    </tr>\n",
       "    <tr>\n",
       "      <th>Type_A</th>\n",
       "      <td>-0.000465</td>\n",
       "      <td>-0.003838</td>\n",
       "      <td>0.126300</td>\n",
       "      <td>0.003411</td>\n",
       "      <td>0.004250</td>\n",
       "      <td>0.004108</td>\n",
       "      <td>-0.003042</td>\n",
       "      <td>0.024035</td>\n",
       "      <td>0.001535</td>\n",
       "      <td>0.004326</td>\n",
       "      <td>0.003942</td>\n",
       "      <td>-0.077339</td>\n",
       "      <td>0.030834</td>\n",
       "      <td>-0.917007</td>\n",
       "      <td>0.034570</td>\n",
       "      <td>1.000000</td>\n",
       "      <td>-0.593537</td>\n",
       "      <td>-0.615403</td>\n",
       "    </tr>\n",
       "    <tr>\n",
       "      <th>Type_B</th>\n",
       "      <td>0.000181</td>\n",
       "      <td>0.009282</td>\n",
       "      <td>-0.091954</td>\n",
       "      <td>0.004090</td>\n",
       "      <td>0.021740</td>\n",
       "      <td>0.017395</td>\n",
       "      <td>-0.005064</td>\n",
       "      <td>0.001877</td>\n",
       "      <td>0.073322</td>\n",
       "      <td>0.005407</td>\n",
       "      <td>-0.005238</td>\n",
       "      <td>0.004382</td>\n",
       "      <td>-0.055865</td>\n",
       "      <td>0.223264</td>\n",
       "      <td>0.358992</td>\n",
       "      <td>-0.593537</td>\n",
       "      <td>1.000000</td>\n",
       "      <td>-0.269094</td>\n",
       "    </tr>\n",
       "    <tr>\n",
       "      <th>Type_C</th>\n",
       "      <td>0.000378</td>\n",
       "      <td>-0.004497</td>\n",
       "      <td>-0.061086</td>\n",
       "      <td>-0.008088</td>\n",
       "      <td>-0.026378</td>\n",
       "      <td>-0.021952</td>\n",
       "      <td>0.008600</td>\n",
       "      <td>-0.030601</td>\n",
       "      <td>-0.073647</td>\n",
       "      <td>-0.010473</td>\n",
       "      <td>0.000412</td>\n",
       "      <td>0.088261</td>\n",
       "      <td>0.017814</td>\n",
       "      <td>0.878724</td>\n",
       "      <td>-0.392961</td>\n",
       "      <td>-0.615403</td>\n",
       "      <td>-0.269094</td>\n",
       "      <td>1.000000</td>\n",
       "    </tr>\n",
       "  </tbody>\n",
       "</table>\n",
       "</div>"
      ],
      "text/plain": [
       "                             id      week  center_id   meal_id  \\\n",
       "id                     1.000000  0.002225   0.002641  0.000488   \n",
       "week                   0.002225  1.000000  -0.003450  0.019814   \n",
       "center_id              0.002641 -0.003450   1.000000  0.009893   \n",
       "meal_id                0.000488  0.019814   0.009893  1.000000   \n",
       "checkout_price         0.001941  0.026581   0.001348  0.010748   \n",
       "base_price             0.002909  0.028614   0.000604  0.002605   \n",
       "emailer_for_promotion  0.002001 -0.000841   0.013658  0.013402   \n",
       "homepage_featured      0.003111 -0.008263  -0.005043  0.016354   \n",
       "num_orders             0.000702 -0.017210  -0.053035  0.010597   \n",
       "category              -0.000516  0.003802  -0.008446  0.249541   \n",
       "cuisine               -0.002583 -0.018096  -0.020980  0.165249   \n",
       "city_code             -0.000387  0.000405   0.061078 -0.003198   \n",
       "region_code           -0.000648  0.004600  -0.003426 -0.001662   \n",
       "center_type            0.000473  0.000049  -0.107398 -0.006158   \n",
       "op_area               -0.000090  0.001550  -0.111869 -0.001546   \n",
       "Type_A                -0.000465 -0.003838   0.126300  0.003411   \n",
       "Type_B                 0.000181  0.009282  -0.091954  0.004090   \n",
       "Type_C                 0.000378 -0.004497  -0.061086 -0.008088   \n",
       "\n",
       "                       checkout_price  base_price  emailer_for_promotion  \\\n",
       "id                           0.001941    0.002909               0.002001   \n",
       "week                         0.026581    0.028614              -0.000841   \n",
       "center_id                    0.001348    0.000604               0.013658   \n",
       "meal_id                      0.010748    0.002605               0.013402   \n",
       "checkout_price               1.000000    0.953389               0.004818   \n",
       "base_price                   0.953389    1.000000               0.171173   \n",
       "emailer_for_promotion        0.004818    0.171173               1.000000   \n",
       "homepage_featured           -0.057184    0.057156               0.390534   \n",
       "num_orders                  -0.282108   -0.222306               0.277147   \n",
       "category                     0.277529    0.282205               0.095683   \n",
       "cuisine                     -0.686125   -0.720500              -0.151910   \n",
       "city_code                   -0.004805   -0.002054              -0.005234   \n",
       "region_code                 -0.003648   -0.001934              -0.007462   \n",
       "center_type                 -0.015923   -0.013596               0.006194   \n",
       "op_area                      0.021569    0.018031              -0.019462   \n",
       "Type_A                       0.004250    0.004108              -0.003042   \n",
       "Type_B                       0.021740    0.017395              -0.005064   \n",
       "Type_C                      -0.026378   -0.021952               0.008600   \n",
       "\n",
       "                       homepage_featured  num_orders  category   cuisine  \\\n",
       "id                              0.003111    0.000702 -0.000516 -0.002583   \n",
       "week                           -0.008263   -0.017210  0.003802 -0.018096   \n",
       "center_id                      -0.005043   -0.053035 -0.008446 -0.020980   \n",
       "meal_id                         0.016354    0.010597  0.249541  0.165249   \n",
       "checkout_price                 -0.057184   -0.282108  0.277529 -0.686125   \n",
       "base_price                      0.057156   -0.222306  0.282205 -0.720500   \n",
       "emailer_for_promotion           0.390534    0.277147  0.095683 -0.151910   \n",
       "homepage_featured               1.000000    0.294490  0.000885 -0.014629   \n",
       "num_orders                      0.294490    1.000000  0.026520  0.127653   \n",
       "category                        0.000885    0.026520  1.000000  0.132044   \n",
       "cuisine                        -0.014629    0.127653  0.132044  1.000000   \n",
       "city_code                       0.008640    0.041596  0.007676  0.013208   \n",
       "region_code                     0.003605    0.029744  0.005776  0.017213   \n",
       "center_type                    -0.030041   -0.038199 -0.007919 -0.002179   \n",
       "op_area                         0.041498    0.176976  0.014487  0.012654   \n",
       "Type_A                          0.024035    0.001535  0.004326  0.003942   \n",
       "Type_B                          0.001877    0.073322  0.005407 -0.005238   \n",
       "Type_C                         -0.030601   -0.073647 -0.010473  0.000412   \n",
       "\n",
       "                       city_code  region_code  center_type   op_area  \\\n",
       "id                     -0.000387    -0.000648     0.000473 -0.000090   \n",
       "week                    0.000405     0.004600     0.000049  0.001550   \n",
       "center_id               0.061078    -0.003426    -0.107398 -0.111869   \n",
       "meal_id                -0.003198    -0.001662    -0.006158 -0.001546   \n",
       "checkout_price         -0.004805    -0.003648    -0.015923  0.021569   \n",
       "base_price             -0.002054    -0.001934    -0.013596  0.018031   \n",
       "emailer_for_promotion  -0.005234    -0.007462     0.006194 -0.019462   \n",
       "homepage_featured       0.008640     0.003605    -0.030041  0.041498   \n",
       "num_orders              0.041596     0.029744    -0.038199  0.176976   \n",
       "category                0.007676     0.005776    -0.007919  0.014487   \n",
       "cuisine                 0.013208     0.017213    -0.002179  0.012654   \n",
       "city_code               1.000000     0.042686     0.091500  0.131476   \n",
       "region_code             0.042686     1.000000    -0.009658  0.023327   \n",
       "center_type             0.091500    -0.009658     1.000000 -0.219791   \n",
       "op_area                 0.131476     0.023327    -0.219791  1.000000   \n",
       "Type_A                 -0.077339     0.030834    -0.917007  0.034570   \n",
       "Type_B                  0.004382    -0.055865     0.223264  0.358992   \n",
       "Type_C                  0.088261     0.017814     0.878724 -0.392961   \n",
       "\n",
       "                         Type_A    Type_B    Type_C  \n",
       "id                    -0.000465  0.000181  0.000378  \n",
       "week                  -0.003838  0.009282 -0.004497  \n",
       "center_id              0.126300 -0.091954 -0.061086  \n",
       "meal_id                0.003411  0.004090 -0.008088  \n",
       "checkout_price         0.004250  0.021740 -0.026378  \n",
       "base_price             0.004108  0.017395 -0.021952  \n",
       "emailer_for_promotion -0.003042 -0.005064  0.008600  \n",
       "homepage_featured      0.024035  0.001877 -0.030601  \n",
       "num_orders             0.001535  0.073322 -0.073647  \n",
       "category               0.004326  0.005407 -0.010473  \n",
       "cuisine                0.003942 -0.005238  0.000412  \n",
       "city_code             -0.077339  0.004382  0.088261  \n",
       "region_code            0.030834 -0.055865  0.017814  \n",
       "center_type           -0.917007  0.223264  0.878724  \n",
       "op_area                0.034570  0.358992 -0.392961  \n",
       "Type_A                 1.000000 -0.593537 -0.615403  \n",
       "Type_B                -0.593537  1.000000 -0.269094  \n",
       "Type_C                -0.615403 -0.269094  1.000000  "
      ]
     },
     "execution_count": 14,
     "metadata": {},
     "output_type": "execute_result"
    }
   ],
   "source": [
    "trainfinal.corr()"
   ]
  },
  {
   "cell_type": "code",
   "execution_count": 17,
   "metadata": {},
   "outputs": [],
   "source": [
    "outlier_index = trainfinal[(trainfinal['num_orders']>10000)].index"
   ]
  },
  {
   "cell_type": "code",
   "execution_count": 18,
   "metadata": {},
   "outputs": [],
   "source": [
    "trainfinal.drop(outlier_index,inplace = True)"
   ]
  },
  {
   "cell_type": "code",
   "execution_count": 19,
   "metadata": {},
   "outputs": [
    {
     "data": {
      "text/html": [
       "<div>\n",
       "<style scoped>\n",
       "    .dataframe tbody tr th:only-of-type {\n",
       "        vertical-align: middle;\n",
       "    }\n",
       "\n",
       "    .dataframe tbody tr th {\n",
       "        vertical-align: top;\n",
       "    }\n",
       "\n",
       "    .dataframe thead th {\n",
       "        text-align: right;\n",
       "    }\n",
       "</style>\n",
       "<table border=\"1\" class=\"dataframe\">\n",
       "  <thead>\n",
       "    <tr style=\"text-align: right;\">\n",
       "      <th></th>\n",
       "      <th>id</th>\n",
       "      <th>week</th>\n",
       "      <th>center_id</th>\n",
       "      <th>meal_id</th>\n",
       "      <th>checkout_price</th>\n",
       "      <th>base_price</th>\n",
       "      <th>emailer_for_promotion</th>\n",
       "      <th>homepage_featured</th>\n",
       "      <th>num_orders</th>\n",
       "      <th>category</th>\n",
       "      <th>cuisine</th>\n",
       "      <th>city_code</th>\n",
       "      <th>region_code</th>\n",
       "      <th>center_type</th>\n",
       "      <th>op_area</th>\n",
       "      <th>Type_A</th>\n",
       "      <th>Type_B</th>\n",
       "      <th>Type_C</th>\n",
       "    </tr>\n",
       "  </thead>\n",
       "  <tbody>\n",
       "    <tr>\n",
       "      <th>0</th>\n",
       "      <td>1379560</td>\n",
       "      <td>1</td>\n",
       "      <td>55</td>\n",
       "      <td>1885</td>\n",
       "      <td>136.83</td>\n",
       "      <td>152.29</td>\n",
       "      <td>0</td>\n",
       "      <td>0</td>\n",
       "      <td>177</td>\n",
       "      <td>0</td>\n",
       "      <td>3</td>\n",
       "      <td>647</td>\n",
       "      <td>56</td>\n",
       "      <td>2</td>\n",
       "      <td>2.0</td>\n",
       "      <td>0</td>\n",
       "      <td>0</td>\n",
       "      <td>1</td>\n",
       "    </tr>\n",
       "    <tr>\n",
       "      <th>1</th>\n",
       "      <td>1018704</td>\n",
       "      <td>2</td>\n",
       "      <td>55</td>\n",
       "      <td>1885</td>\n",
       "      <td>135.83</td>\n",
       "      <td>152.29</td>\n",
       "      <td>0</td>\n",
       "      <td>0</td>\n",
       "      <td>323</td>\n",
       "      <td>0</td>\n",
       "      <td>3</td>\n",
       "      <td>647</td>\n",
       "      <td>56</td>\n",
       "      <td>2</td>\n",
       "      <td>2.0</td>\n",
       "      <td>0</td>\n",
       "      <td>0</td>\n",
       "      <td>1</td>\n",
       "    </tr>\n",
       "    <tr>\n",
       "      <th>2</th>\n",
       "      <td>1196273</td>\n",
       "      <td>3</td>\n",
       "      <td>55</td>\n",
       "      <td>1885</td>\n",
       "      <td>132.92</td>\n",
       "      <td>133.92</td>\n",
       "      <td>0</td>\n",
       "      <td>0</td>\n",
       "      <td>96</td>\n",
       "      <td>0</td>\n",
       "      <td>3</td>\n",
       "      <td>647</td>\n",
       "      <td>56</td>\n",
       "      <td>2</td>\n",
       "      <td>2.0</td>\n",
       "      <td>0</td>\n",
       "      <td>0</td>\n",
       "      <td>1</td>\n",
       "    </tr>\n",
       "    <tr>\n",
       "      <th>3</th>\n",
       "      <td>1116527</td>\n",
       "      <td>4</td>\n",
       "      <td>55</td>\n",
       "      <td>1885</td>\n",
       "      <td>135.86</td>\n",
       "      <td>134.86</td>\n",
       "      <td>0</td>\n",
       "      <td>0</td>\n",
       "      <td>163</td>\n",
       "      <td>0</td>\n",
       "      <td>3</td>\n",
       "      <td>647</td>\n",
       "      <td>56</td>\n",
       "      <td>2</td>\n",
       "      <td>2.0</td>\n",
       "      <td>0</td>\n",
       "      <td>0</td>\n",
       "      <td>1</td>\n",
       "    </tr>\n",
       "    <tr>\n",
       "      <th>4</th>\n",
       "      <td>1343872</td>\n",
       "      <td>5</td>\n",
       "      <td>55</td>\n",
       "      <td>1885</td>\n",
       "      <td>146.50</td>\n",
       "      <td>147.50</td>\n",
       "      <td>0</td>\n",
       "      <td>0</td>\n",
       "      <td>215</td>\n",
       "      <td>0</td>\n",
       "      <td>3</td>\n",
       "      <td>647</td>\n",
       "      <td>56</td>\n",
       "      <td>2</td>\n",
       "      <td>2.0</td>\n",
       "      <td>0</td>\n",
       "      <td>0</td>\n",
       "      <td>1</td>\n",
       "    </tr>\n",
       "  </tbody>\n",
       "</table>\n",
       "</div>"
      ],
      "text/plain": [
       "        id  week  center_id  meal_id  checkout_price  base_price  \\\n",
       "0  1379560     1         55     1885          136.83      152.29   \n",
       "1  1018704     2         55     1885          135.83      152.29   \n",
       "2  1196273     3         55     1885          132.92      133.92   \n",
       "3  1116527     4         55     1885          135.86      134.86   \n",
       "4  1343872     5         55     1885          146.50      147.50   \n",
       "\n",
       "   emailer_for_promotion  homepage_featured  num_orders  category  cuisine  \\\n",
       "0                      0                  0         177         0        3   \n",
       "1                      0                  0         323         0        3   \n",
       "2                      0                  0          96         0        3   \n",
       "3                      0                  0         163         0        3   \n",
       "4                      0                  0         215         0        3   \n",
       "\n",
       "   city_code  region_code  center_type  op_area  Type_A  Type_B  Type_C  \n",
       "0        647           56            2      2.0       0       0       1  \n",
       "1        647           56            2      2.0       0       0       1  \n",
       "2        647           56            2      2.0       0       0       1  \n",
       "3        647           56            2      2.0       0       0       1  \n",
       "4        647           56            2      2.0       0       0       1  "
      ]
     },
     "execution_count": 19,
     "metadata": {},
     "output_type": "execute_result"
    }
   ],
   "source": [
    "trainfinal.head()"
   ]
  },
  {
   "cell_type": "code",
   "execution_count": 32,
   "metadata": {},
   "outputs": [],
   "source": [
    "X=trainfinal[[\"homepage_featured\",\"Type_A\",\"Type_B\",\"meal_id\",\"emailer_for_promotion\",\"op_area\",\"cuisine\",\"category\",\"region_code\",\"city_code\"]].values\n",
    "Y=trainfinal['num_orders'].values"
   ]
  },
  {
   "cell_type": "code",
   "execution_count": null,
   "metadata": {},
   "outputs": [],
   "source": []
  },
  {
   "cell_type": "code",
   "execution_count": null,
   "metadata": {},
   "outputs": [],
   "source": []
  },
  {
   "cell_type": "code",
   "execution_count": null,
   "metadata": {},
   "outputs": [],
   "source": [
    "\n"
   ]
  },
  {
   "cell_type": "code",
   "execution_count": 33,
   "metadata": {},
   "outputs": [
    {
     "data": {
      "text/plain": [
       "array([[  0.,   0.,   0., ...,   0.,  56., 647.],\n",
       "       [  0.,   0.,   0., ...,   0.,  56., 647.],\n",
       "       [  0.,   0.,   0., ...,   0.,  56., 647.],\n",
       "       ...,\n",
       "       [  0.,   1.,   0., ...,   4.,  77., 473.],\n",
       "       [  0.,   1.,   0., ...,   4.,  77., 473.],\n",
       "       [  0.,   1.,   0., ...,   4.,  77., 473.]])"
      ]
     },
     "execution_count": 33,
     "metadata": {},
     "output_type": "execute_result"
    }
   ],
   "source": [
    "X"
   ]
  },
  {
   "cell_type": "code",
   "execution_count": null,
   "metadata": {},
   "outputs": [],
   "source": []
  },
  {
   "cell_type": "code",
   "execution_count": 34,
   "metadata": {},
   "outputs": [
    {
     "name": "stdout",
     "output_type": "stream",
     "text": [
      "(456526, 10)\n",
      "(456526,)\n"
     ]
    }
   ],
   "source": [
    "print(X.shape)\n",
    "print(Y.shape)"
   ]
  },
  {
   "cell_type": "code",
   "execution_count": 35,
   "metadata": {},
   "outputs": [],
   "source": [
    "from sklearn.model_selection import train_test_split\n",
    "X_train, X_test, y_train, y_test = train_test_split(X, Y, test_size=0.25)"
   ]
  },
  {
   "cell_type": "code",
   "execution_count": 57,
   "metadata": {},
   "outputs": [
    {
     "name": "stdout",
     "output_type": "stream",
     "text": [
      "[[175.46  94.  ]\n",
      " [112.81 107.  ]\n",
      " [198.36 107.  ]\n",
      " ...\n",
      " [387.99 325.  ]\n",
      " [272.79 580.  ]\n",
      " [ 53.61  14.  ]]\n"
     ]
    }
   ],
   "source": [
    "from sklearn.ensemble import RandomForestRegressor\n",
    "regressor1 = RandomForestRegressor(n_estimators = 200, random_state = 0)\n",
    "regressor1.fit(X_train, y_train)\n",
    "y_pred1 = regressor1.predict(X_test)\n",
    "np.set_printoptions(precision=2)\n",
    "print(np.concatenate((y_pred1.reshape(len(y_pred1),1), y_test.reshape(len(y_test),1)),1))"
   ]
  },
  {
   "cell_type": "code",
   "execution_count": 21,
   "metadata": {},
   "outputs": [],
   "source": [
    "import pickle\n",
    "pickle.dump(regressor1,open('decision.pkl','wb'))"
   ]
  },
  {
   "cell_type": "code",
   "execution_count": 36,
   "metadata": {},
   "outputs": [
    {
     "name": "stdout",
     "output_type": "stream",
     "text": [
      "[[175.34  94.  ]\n",
      " [112.91 107.  ]\n",
      " [198.17 107.  ]\n",
      " ...\n",
      " [386.67 325.  ]\n",
      " [273.5  580.  ]\n",
      " [ 53.82  14.  ]]\n"
     ]
    }
   ],
   "source": [
    "from sklearn.tree import DecisionTreeRegressor\n",
    "regressor2 = DecisionTreeRegressor(random_state = 0)\n",
    "regressor2.fit(X_train, y_train)\n",
    "y_pred2 = regressor2.predict(X_test)\n",
    "np.set_printoptions(precision=2)\n",
    "print(np.concatenate((y_pred2.reshape(len(y_pred2),1), y_test.reshape(len(y_test),1)),1))"
   ]
  },
  {
   "cell_type": "code",
   "execution_count": 55,
   "metadata": {},
   "outputs": [
    {
     "name": "stdout",
     "output_type": "stream",
     "text": [
      "RMSLE: 55.96915369411977\n"
     ]
    }
   ],
   "source": [
    "from sklearn import metrics\n",
    "print('RMSLE:', 100*np.sqrt(metrics.mean_squared_log_error(y_test, y_pred2)))"
   ]
  },
  {
   "cell_type": "code",
   "execution_count": 58,
   "metadata": {},
   "outputs": [
    {
     "name": "stdout",
     "output_type": "stream",
     "text": [
      "RMSLE: 55.777205420616184\n"
     ]
    }
   ],
   "source": [
    "from sklearn import metrics\n",
    "print('RMSLE:', 100*np.sqrt(metrics.mean_squared_log_error(y_test, y_pred1)))"
   ]
  },
  {
   "cell_type": "code",
   "execution_count": 59,
   "metadata": {},
   "outputs": [
    {
     "data": {
      "text/plain": [
       "0.7590602842313281"
      ]
     },
     "execution_count": 59,
     "metadata": {},
     "output_type": "execute_result"
    }
   ],
   "source": [
    "from sklearn.metrics import r2_score\n",
    "r2_score(y_test, y_pred1)"
   ]
  },
  {
   "cell_type": "code",
   "execution_count": 37,
   "metadata": {},
   "outputs": [
    {
     "data": {
      "text/plain": [
       "0.7439682992328727"
      ]
     },
     "execution_count": 37,
     "metadata": {},
     "output_type": "execute_result"
    }
   ],
   "source": [
    "from sklearn.metrics import r2_score\n",
    "r2_score(y_test, y_pred2)"
   ]
  },
  {
   "cell_type": "code",
   "execution_count": 77,
   "metadata": {},
   "outputs": [],
   "source": [
    "from sklearn.neighbors import KNeighborsRegressor\n",
    "KNN = KNeighborsRegressor()\n",
    "KNN.fit(X_train, y_train)\n",
    "y_pred6 = KNN.predict(X_test)"
   ]
  },
  {
   "cell_type": "code",
   "execution_count": 78,
   "metadata": {},
   "outputs": [
    {
     "data": {
      "text/plain": [
       "0.7356081005982301"
      ]
     },
     "execution_count": 78,
     "metadata": {},
     "output_type": "execute_result"
    }
   ],
   "source": [
    "from sklearn.metrics import r2_score\n",
    "r2_score(y_test, y_pred6)"
   ]
  },
  {
   "cell_type": "code",
   "execution_count": 79,
   "metadata": {},
   "outputs": [
    {
     "name": "stdout",
     "output_type": "stream",
     "text": [
      "RMSLE: 59.34342017066481\n"
     ]
    }
   ],
   "source": [
    "from sklearn import metrics\n",
    "print('RMSLE:', 100*np.sqrt(metrics.mean_squared_log_error(y_test, y_pred6)))"
   ]
  },
  {
   "cell_type": "code",
   "execution_count": 86,
   "metadata": {},
   "outputs": [
    {
     "data": {
      "text/plain": [
       "<matplotlib.axes._subplots.AxesSubplot at 0x13a686cd0>"
      ]
     },
     "execution_count": 86,
     "metadata": {},
     "output_type": "execute_result"
    },
    {
     "data": {
      "image/png": "[encoded data removed]",
      "text/plain": [
       "<Figure size 432x288 with 1 Axes>"
      ]
     },
     "metadata": {
      "needs_background": "light"
     },
     "output_type": "display_data"
    }
   ],
   "source": [
    "import seaborn as sns\n",
    "ax1=sns.distplot(y_test,hist=False, color=\"r\", label=\"actual value\")\n",
    "sns.distplot(y_pred1,hist=False, color=\"b\", label=\"predicted value\", ax=ax1)"
   ]
  },
  {
   "cell_type": "code",
   "execution_count": 87,
   "metadata": {},
   "outputs": [
    {
     "data": {
      "text/plain": [
       "<matplotlib.axes._subplots.AxesSubplot at 0x13a791d60>"
      ]
     },
     "execution_count": 87,
     "metadata": {},
     "output_type": "execute_result"
    },
    {
     "data": {
      "image/png": "[encoded data removed]",
      "text/plain": [
       "<Figure size 432x288 with 1 Axes>"
      ]
     },
     "metadata": {
      "needs_background": "light"
     },
     "output_type": "display_data"
    }
   ],
   "source": [
    "import seaborn as sns\n",
    "ax1=sns.distplot(y_test,hist=False, color=\"r\", label=\"actual value\")\n",
    "sns.distplot(y_pred2,hist=False, color=\"b\", label=\"predicted value\", ax=ax1)"
   ]
  },
  {
   "cell_type": "code",
   "execution_count": 88,
   "metadata": {},
   "outputs": [
    {
     "data": {
      "text/plain": [
       "<matplotlib.axes._subplots.AxesSubplot at 0x13aa8d4f0>"
      ]
     },
     "execution_count": 88,
     "metadata": {},
     "output_type": "execute_result"
    },
    {
     "data": {
      "image/png": "[encoded data removed]",
      "text/plain": [
       "<Figure size 432x288 with 1 Axes>"
      ]
     },
     "metadata": {
      "needs_background": "light"
     },
     "output_type": "display_data"
    }
   ],
   "source": [
    "import seaborn as sns\n",
    "ax1=sns.distplot(y_test,hist=False, color=\"r\", label=\"actual value\")\n",
    "sns.distplot(y_pred6,hist=False, color=\"b\", label=\"predicted value\", ax=ax1)"
   ]
  },
  {
   "cell_type": "code",
   "execution_count": 41,
   "metadata": {},
   "outputs": [
    {
     "data": {
      "text/plain": [
       "<matplotlib.collections.PathCollection at 0x125915c40>"
      ]
     },
     "execution_count": 41,
     "metadata": {},
     "output_type": "execute_result"
    },
    {
     "data": {
      "image/png": "[encoded data removed]",
      "text/plain": [
       "<Figure size 432x288 with 1 Axes>"
      ]
     },
     "metadata": {
      "needs_background": "light"
     },
     "output_type": "display_data"
    }
   ],
   "source": [
    "plt.scatter(trainfinal[\"cuisine\"],trainfinal['num_orders'])"
   ]
  },
  {
   "cell_type": "code",
   "execution_count": 42,
   "metadata": {},
   "outputs": [
    {
     "data": {
      "text/plain": [
       "<matplotlib.collections.PathCollection at 0x12683e220>"
      ]
     },
     "execution_count": 42,
     "metadata": {},
     "output_type": "execute_result"
    },
    {
     "data": {
      "image/png": "[encoded data removed]",
      "text/plain": [
       "<Figure size 432x288 with 1 Axes>"
      ]
     },
     "metadata": {
      "needs_background": "light"
     },
     "output_type": "display_data"
    }
   ],
   "source": [
    "plt.scatter(trainfinal[\"homepage_featured\"],trainfinal['num_orders'])"
   ]
  },
  {
   "cell_type": "code",
   "execution_count": 43,
   "metadata": {},
   "outputs": [
    {
     "data": {
      "text/plain": [
       "<matplotlib.collections.PathCollection at 0x125a7d040>"
      ]
     },
     "execution_count": 43,
     "metadata": {},
     "output_type": "execute_result"
    },
    {
     "data": {
      "image/png": "[encoded data removed]",
      "text/plain": [
       "<Figure size 432x288 with 1 Axes>"
      ]
     },
     "metadata": {
      "needs_background": "light"
     },
     "output_type": "display_data"
    }
   ],
   "source": [
    "plt.scatter(trainfinal[\"emailer_for_promotion\"],trainfinal['num_orders'])"
   ]
  },
  {
   "cell_type": "code",
   "execution_count": 30,
   "metadata": {},
   "outputs": [
    {
     "data": {
      "text/plain": [
       "<matplotlib.collections.PathCollection at 0x11a4c7880>"
      ]
     },
     "execution_count": 30,
     "metadata": {},
     "output_type": "execute_result"
    },
    {
     "data": {
      "image/png": "[encoded data removed]",
      "text/plain": [
       "<Figure size 432x288 with 1 Axes>"
      ]
     },
     "metadata": {
      "needs_background": "light"
     },
     "output_type": "display_data"
    }
   ],
   "source": [
    "plt.scatter(trainfinal[\"op_area\"],trainfinal['num_orders'])"
   ]
  },
  {
   "cell_type": "code",
   "execution_count": 31,
   "metadata": {},
   "outputs": [
    {
     "data": {
      "text/plain": [
       "<matplotlib.collections.PathCollection at 0x11b634550>"
      ]
     },
     "execution_count": 31,
     "metadata": {},
     "output_type": "execute_result"
    },
    {
     "data": {
      "image/png": "[encoded data removed]",
      "text/plain": [
       "<Figure size 432x288 with 1 Axes>"
      ]
     },
     "metadata": {
      "needs_background": "light"
     },
     "output_type": "display_data"
    }
   ],
   "source": [
    "plt.scatter(trainfinal[\"category\"],trainfinal['num_orders'])"
   ]
  },
  {
   "cell_type": "code",
   "execution_count": 32,
   "metadata": {},
   "outputs": [
    {
     "data": {
      "text/plain": [
       "0         0\n",
       "1         0\n",
       "2         0\n",
       "3         0\n",
       "4         0\n",
       "         ..\n",
       "456543    4\n",
       "456544    4\n",
       "456545    4\n",
       "456546    4\n",
       "456547    4\n",
       "Name: category, Length: 456526, dtype: int64"
      ]
     },
     "execution_count": 32,
     "metadata": {},
     "output_type": "execute_result"
    }
   ],
   "source": [
    "trainfinal[\"category\"]"
   ]
  },
  {
   "cell_type": "code",
   "execution_count": null,
   "metadata": {},
   "outputs": [],
   "source": []
  },
  {
   "cell_type": "code",
   "execution_count": null,
   "metadata": {},
   "outputs": [],
   "source": []
  },
  {
   "cell_type": "code",
   "execution_count": 33,
   "metadata": {},
   "outputs": [
    {
     "data": {
      "text/plain": [
       "<matplotlib.collections.PathCollection at 0x11eddf2e0>"
      ]
     },
     "execution_count": 33,
     "metadata": {},
     "output_type": "execute_result"
    },
    {
     "data": {
      "image/png": "[encoded data removed]",
      "text/plain": [
       "<Figure size 432x288 with 1 Axes>"
      ]
     },
     "metadata": {
      "needs_background": "light"
     },
     "output_type": "display_data"
    }
   ],
   "source": [
    "plt.scatter(trainfinal[\"region_code\"],trainfinal['num_orders'])"
   ]
  },
  {
   "cell_type": "code",
   "execution_count": 34,
   "metadata": {},
   "outputs": [
    {
     "data": {
      "text/plain": [
       "<matplotlib.collections.PathCollection at 0x123ce0520>"
      ]
     },
     "execution_count": 34,
     "metadata": {},
     "output_type": "execute_result"
    },
    {
     "data": {
      "image/png": "[encoded data removed]",
      "text/plain": [
       "<Figure size 432x288 with 1 Axes>"
      ]
     },
     "metadata": {
      "needs_background": "light"
     },
     "output_type": "display_data"
    }
   ],
   "source": [
    "plt.scatter(trainfinal[\"city_code\"],trainfinal['num_orders'])"
   ]
  },
  {
   "cell_type": "code",
   "execution_count": null,
   "metadata": {},
   "outputs": [],
   "source": []
  },
  {
   "cell_type": "code",
   "execution_count": null,
   "metadata": {},
   "outputs": [],
   "source": []
  },
  {
   "cell_type": "code",
   "execution_count": null,
   "metadata": {},
   "outputs": [],
   "source": []
  },
  {
   "cell_type": "code",
   "execution_count": null,
   "metadata": {},
   "outputs": [],
   "source": []
  },
  {
   "cell_type": "markdown",
   "metadata": {},
   "source": [
    "# StandardScaler "
   ]
  },
  {
   "cell_type": "code",
   "execution_count": 38,
   "metadata": {},
   "outputs": [
    {
     "data": {
      "text/plain": [
       "array([[-0.35, -1.17, -0.51, ..., -1.18, -0.03,  0.69],\n",
       "       [-0.35, -1.17, -0.51, ..., -1.18, -0.03,  0.69],\n",
       "       [-0.35, -1.17, -0.51, ..., -1.18, -0.03,  0.69],\n",
       "       ...,\n",
       "       [-0.35,  0.86, -0.51, ..., -0.28,  1.16, -1.94],\n",
       "       [-0.35,  0.86, -0.51, ..., -0.28,  1.16, -1.94],\n",
       "       [-0.35,  0.86, -0.51, ..., -0.28,  1.16, -1.94]])"
      ]
     },
     "execution_count": 38,
     "metadata": {},
     "output_type": "execute_result"
    }
   ],
   "source": [
    "from sklearn.preprocessing import StandardScaler\n",
    "sc= StandardScaler()\n",
    "X1=sc.fit_transform(X)\n",
    "X1"
   ]
  },
  {
   "cell_type": "code",
   "execution_count": 35,
   "metadata": {},
   "outputs": [
    {
     "data": {
      "text/plain": [
       "['scalar2.save']"
      ]
     },
     "execution_count": 35,
     "metadata": {},
     "output_type": "execute_result"
    }
   ],
   "source": [
    "from joblib import dump\n",
    "dump(sc,\"scalar2.save\")"
   ]
  },
  {
   "cell_type": "code",
   "execution_count": 39,
   "metadata": {},
   "outputs": [
    {
     "name": "stdout",
     "output_type": "stream",
     "text": [
      "(456526, 10)\n",
      "(456526,)\n"
     ]
    }
   ],
   "source": [
    "print(X1.shape)\n",
    "print(Y.shape)"
   ]
  },
  {
   "cell_type": "code",
   "execution_count": 40,
   "metadata": {},
   "outputs": [],
   "source": [
    "from sklearn.model_selection import train_test_split\n",
    "X_train1, X_test1, y_train1, y_test1 = train_test_split(X1, Y, test_size=0.2)"
   ]
  },
  {
   "cell_type": "code",
   "execution_count": 43,
   "metadata": {},
   "outputs": [
    {
     "name": "stdout",
     "output_type": "stream",
     "text": [
      "[[ 39.44  26.  ]\n",
      " [156.39 404.  ]\n",
      " [ 92.48  80.  ]\n",
      " ...\n",
      " [433.75 310.  ]\n",
      " [ 20.6   15.  ]\n",
      " [679.47 215.  ]]\n"
     ]
    }
   ],
   "source": [
    "from sklearn.ensemble import RandomForestRegressor\n",
    "reg2 = RandomForestRegressor(n_estimators = 200, random_state = 0)\n",
    "reg2.fit(X_train1, y_train1)\n",
    "y_pred3 = reg2.predict(X_test1)\n",
    "np.set_printoptions(precision=2)\n",
    "print(np.concatenate((y_pred3.reshape(len(y_pred3),1), y_test1.reshape(len(y_test1),1)),1))"
   ]
  },
  {
   "cell_type": "code",
   "execution_count": 53,
   "metadata": {},
   "outputs": [
    {
     "name": "stdout",
     "output_type": "stream",
     "text": [
      "RMSLE: 55.535443756956326\n"
     ]
    }
   ],
   "source": [
    "from sklearn import metrics\n",
    "print('RMSLE:', 100*np.sqrt(metrics.mean_squared_log_error(y_test1, y_pred3)))"
   ]
  },
  {
   "cell_type": "code",
   "execution_count": 41,
   "metadata": {},
   "outputs": [
    {
     "name": "stdout",
     "output_type": "stream",
     "text": [
      "[[ 39.1   26.  ]\n",
      " [156.46 404.  ]\n",
      " [ 92.44  80.  ]\n",
      " ...\n",
      " [435.51 310.  ]\n",
      " [ 20.55  15.  ]\n",
      " [678.94 215.  ]]\n"
     ]
    }
   ],
   "source": [
    "from sklearn.tree import DecisionTreeRegressor\n",
    "reg3 = DecisionTreeRegressor(random_state = 2)\n",
    "reg3.fit(X_train1, y_train1)\n",
    "y_pred4 = reg3.predict(X_test1)\n",
    "np.set_printoptions(precision=2)\n",
    "print(np.concatenate((y_pred4.reshape(len(y_pred4),1), y_test1.reshape(len(y_test1),1)),1))"
   ]
  },
  {
   "cell_type": "code",
   "execution_count": 54,
   "metadata": {},
   "outputs": [
    {
     "name": "stdout",
     "output_type": "stream",
     "text": [
      "RMSLE: 55.66142266092512\n"
     ]
    }
   ],
   "source": [
    "from sklearn import metrics\n",
    "print('RMSLE:', 100*np.sqrt(metrics.mean_squared_log_error(y_test1, y_pred4)))"
   ]
  },
  {
   "cell_type": "code",
   "execution_count": 44,
   "metadata": {},
   "outputs": [
    {
     "data": {
      "text/plain": [
       "0.748520698083126"
      ]
     },
     "execution_count": 44,
     "metadata": {},
     "output_type": "execute_result"
    }
   ],
   "source": [
    "from sklearn.metrics import r2_score\n",
    "r2_score(y_test1, y_pred3)"
   ]
  },
  {
   "cell_type": "code",
   "execution_count": 42,
   "metadata": {},
   "outputs": [
    {
     "data": {
      "text/plain": [
       "0.7404712930049608"
      ]
     },
     "execution_count": 42,
     "metadata": {},
     "output_type": "execute_result"
    }
   ],
   "source": [
    "from sklearn.metrics import r2_score\n",
    "r2_score(y_test1, y_pred4)"
   ]
  },
  {
   "cell_type": "code",
   "execution_count": null,
   "metadata": {},
   "outputs": [],
   "source": [
    "from sklearn.model_selection import cross_val_score\n",
    "accuracies = cross_val_score(estimator =reg2 , X = X_train1, y = y_train1, cv = 10)\n",
    "print(\"Accuracy: {:.2f} %\".format(accuracies.mean()*100))\n",
    "print(\"Standard Deviation: {:.2f} %\".format(accuracies.std()*100))"
   ]
  },
  {
   "cell_type": "code",
   "execution_count": 44,
   "metadata": {},
   "outputs": [
    {
     "name": "stdout",
     "output_type": "stream",
     "text": [
      "Accuracy: 73.55 %\n",
      "Standard Deviation: 0.68 %\n"
     ]
    }
   ],
   "source": [
    "from sklearn.model_selection import cross_val_score\n",
    "accuracies = cross_val_score(estimator =reg3 , X = X_train1, y = y_train1, cv = 10)\n",
    "print(\"Accuracy: {:.2f} %\".format(accuracies.mean()*100))\n",
    "print(\"Standard Deviation: {:.2f} %\".format(accuracies.std()*100))"
   ]
  },
  {
   "cell_type": "markdown",
   "metadata": {},
   "source": []
  },
  {
   "cell_type": "code",
   "execution_count": 34,
   "metadata": {},
   "outputs": [],
   "source": [
    "import pickle\n",
    "pickle.dump(reg2,open('decision2.pkl','wb'))"
   ]
  },
  {
   "cell_type": "code",
   "execution_count": 83,
   "metadata": {},
   "outputs": [
    {
     "data": {
      "text/plain": [
       "<matplotlib.axes._subplots.AxesSubplot at 0x11ea7a160>"
      ]
     },
     "execution_count": 83,
     "metadata": {},
     "output_type": "execute_result"
    },
    {
     "data": {
      "image/png": "[encoded data removed]",
      "text/plain": [
       "<Figure size 432x288 with 1 Axes>"
      ]
     },
     "metadata": {
      "needs_background": "light"
     },
     "output_type": "display_data"
    }
   ],
   "source": [
    "import seaborn as sns\n",
    "ax1=sns.distplot(y_test1,hist=False, color=\"r\", label=\"actual value\")\n",
    "sns.distplot(y_pred3,hist=False, color=\"b\", label=\"predicted value\", ax=ax1)"
   ]
  },
  {
   "cell_type": "code",
   "execution_count": 84,
   "metadata": {},
   "outputs": [
    {
     "data": {
      "text/plain": [
       "<matplotlib.axes._subplots.AxesSubplot at 0x12ca9d070>"
      ]
     },
     "execution_count": 84,
     "metadata": {},
     "output_type": "execute_result"
    },
    {
     "data": {
      "image/png": "[encoded data removed]",
      "text/plain": [
       "<Figure size 432x288 with 1 Axes>"
      ]
     },
     "metadata": {
      "needs_background": "light"
     },
     "output_type": "display_data"
    }
   ],
   "source": [
    "import seaborn as sns\n",
    "ax1=sns.distplot(y_test1,hist=False, color=\"r\", label=\"actual value\")\n",
    "sns.distplot(y_pred4,hist=False, color=\"b\", label=\"predicted value\", ax=ax1)"
   ]
  },
  {
   "cell_type": "code",
   "execution_count": 85,
   "metadata": {},
   "outputs": [
    {
     "data": {
      "text/plain": [
       "<matplotlib.axes._subplots.AxesSubplot at 0x13a662070>"
      ]
     },
     "execution_count": 85,
     "metadata": {},
     "output_type": "execute_result"
    },
    {
     "data": {
      "image/png": "[encoded data removed]",
      "text/plain": [
       "<Figure size 432x288 with 1 Axes>"
      ]
     },
     "metadata": {
      "needs_background": "light"
     },
     "output_type": "display_data"
    }
   ],
   "source": [
    "import seaborn as sns\n",
    "ax1=sns.distplot(y_test1,hist=False, color=\"r\", label=\"actual value\")\n",
    "sns.distplot(y_pred5,hist=False, color=\"b\", label=\"predicted value\", ax=ax1)"
   ]
  },
  {
   "cell_type": "code",
   "execution_count": 80,
   "metadata": {},
   "outputs": [],
   "source": [
    "from sklearn.neighbors import KNeighborsRegressor\n",
    "KNN = KNeighborsRegressor()\n",
    "KNN.fit(X_train1, y_train1)\n",
    "y_pred5 = KNN.predict(X_test1)\n"
   ]
  },
  {
   "cell_type": "code",
   "execution_count": 81,
   "metadata": {},
   "outputs": [
    {
     "data": {
      "text/plain": [
       "0.7204789922488374"
      ]
     },
     "execution_count": 81,
     "metadata": {},
     "output_type": "execute_result"
    }
   ],
   "source": [
    "from sklearn.metrics import r2_score\n",
    "r2_score(y_test1, y_pred5)"
   ]
  },
  {
   "cell_type": "code",
   "execution_count": 82,
   "metadata": {},
   "outputs": [
    {
     "name": "stdout",
     "output_type": "stream",
     "text": [
      "RMSLE: 59.205808090568304\n"
     ]
    }
   ],
   "source": [
    "from sklearn import metrics\n",
    "print('RMSLE:', 100*np.sqrt(metrics.mean_squared_log_error(y_test1, y_pred5)))"
   ]
  },
  {
   "cell_type": "code",
   "execution_count": null,
   "metadata": {},
   "outputs": [],
   "source": []
  }
 ],
 "metadata": {
  "kernelspec": {
   "display_name": "Python 3",
   "language": "python",
   "name": "python3"
  },
  "language_info": {
   "codemirror_mode": {
    "name": "ipython",
    "version": 3
   },
   "file_extension": ".py",
   "mimetype": "text/x-python",
   "name": "python",
   "nbconvert_exporter": "python",
   "pygments_lexer": "ipython3",
   "version": "3.8.3"
  }
 },
 "nbformat": 4,
 "nbformat_minor": 4
}
